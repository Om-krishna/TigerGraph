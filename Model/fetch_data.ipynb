{
 "cells": [
  {
   "cell_type": "code",
   "execution_count": 3,
   "metadata": {},
   "outputs": [],
   "source": [
    "import pandas as pd\n",
    "import numpy as np\n",
    "import flood_predictor as fp\n",
    "import geocoder\n",
    "import time"
   ]
  },
  {
   "cell_type": "code",
   "execution_count": 4,
   "metadata": {},
   "outputs": [],
   "source": [
    "tables = pd.read_html(\"http://hydro.imd.gov.in/hydrometweb/(S(ht2dew45izstmbyyphslh455))/landing.aspx#\")\n",
    "states={'ANDAMAN & NICOBAR ISLANDS': 0, 'ARUNACHAL PRADESH': 1, 'ASSAM':2, 'MEGHALAYA': 2, 'BIHAR': 3, 'CHHATTISGARH': 4, 'ANDHRA PRADESH': 5, \n",
    "'KARNATAKA': 6, 'MADHYA PRADESH': 7, 'RAJASTHAN': 8, 'UTTAR PRADESH': 9, 'WEST BENGAL': 10, 'GUJARAT': 11, \n",
    "'HARYANA': 12,'DELHI': 12, 'HIMACHAL PRADESH': 13, 'JAMMU & KASHMIR': 14, 'JHARKHAND': 15, 'KERALA': 16, 'GOA': 17, \n",
    "'LAKSHADWEEP': 18, 'MADHYA MAHARASHTRA': 19, 'MATATHWADA': 20, 'NAGALAND':21, 'MANIPUR':21, 'MIZORAM':21, 'TRIPURA': 21, 'KARNATAKA': 22, \n",
    "'ODISSA': 23, 'PUNJAB': 24, 'RAYALSEEMA': 25, 'SAURASHTRA & KUTCH': 26, 'SOUTH INTERIOR KARNATAKA': 27, 'SUB HIMALAYAN WEST BENGAL & SIKKIM': 28, \n",
    "'TAMIL NADU': 29, 'TELANGANA': 30, 'UTTARAKHAND': 31, 'VIDARBHA': 32, 'WEST MADHYA PRADESH': 33, 'WEST RAJASTHAN': 34, 'WEST UTTAR PRADESH': 35}\n"
   ]
  },
  {
   "cell_type": "code",
   "execution_count": 5,
   "metadata": {},
   "outputs": [
    {
     "name": "stdout",
     "output_type": "stream",
     "text": [
      "[['ANDHRA PRADESH' 'ARAKU VALLEY' 0.0]\n",
      " ['ANDHRA PRADESH' 'AROGYAVARAM' 0.0]\n",
      " ['ANDHRA PRADESH' 'ASIFABAD' 0.0]\n",
      " ...\n",
      " ['WEST BENGAL' 'SILIGURI' 0.0]\n",
      " ['WEST BENGAL' 'SONAMUKHI' 0.0]\n",
      " ['WEST BENGAL' 'TOOFANGANJ' 9.0]]\n"
     ]
    }
   ],
   "source": [
    "tables=np.array(tables[4])\n",
    "tables=np.array(tables[1:])\n",
    "print(tables)"
   ]
  },
  {
   "cell_type": "code",
   "execution_count": 9,
   "metadata": {},
   "outputs": [],
   "source": [
    "def get_location():\n",
    "    g = geocoder.ip('me')\n",
    "    state_cur=g.state\n",
    "    # print(g.state)\n",
    "    state_cur=state_cur.upper()\n",
    "    # print(str(state_cur))\n",
    "    return state_cur\n",
    "def get_rain():\n",
    "    a=max(tables[tables[:,0]==get_location()][:,2].flatten())\n",
    "    return a\n",
    "#print(max(tables[tables[:,0]==get_location()][:,2].flatten()))\n",
    "#print(get_location)\n",
    "def predict():\n",
    "    # print(states[get_location()])\n",
    "    # print(get_rain())\n",
    "    return fp.prediction1([[states[get_location()],get_rain()]])\n",
    "def alert():\n",
    "    var=predict()\n",
    "    if(var==0):\n",
    "        return \"You are completely safe\"\n",
    "    elif(var==1):\n",
    "        return \"Moderate rain falling, keep your umbrella with you, but you're safe\"\n",
    "    elif(var==2):\n",
    "        return \"Heavy raining, chances of floods increasing. Please take necessary precations \"\n",
    "    else:\n",
    "        return \"Flood chances are at peak.Stay in your house\"\n",
    "        \n",
    "\n",
    "#print(len(sorted(set(tables[1:,0]))))"
   ]
  },
  {
   "cell_type": "code",
   "execution_count": null,
   "metadata": {},
   "outputs": [],
   "source": []
  }
 ],
 "metadata": {
  "kernelspec": {
   "display_name": "Python 3",
   "language": "python",
   "name": "python3"
  },
  "language_info": {
   "codemirror_mode": {
    "name": "ipython",
    "version": 3
   },
   "file_extension": ".py",
   "mimetype": "text/x-python",
   "name": "python",
   "nbconvert_exporter": "python",
   "pygments_lexer": "ipython3",
   "version": "3.8.3"
  }
 },
 "nbformat": 4,
 "nbformat_minor": 5
}
